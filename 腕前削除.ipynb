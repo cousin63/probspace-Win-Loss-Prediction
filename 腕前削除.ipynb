{
 "cells": [
  {
   "cell_type": "code",
   "execution_count": 1,
   "metadata": {},
   "outputs": [],
   "source": [
    "# This Python 3 environment comes with many helpful analytics libraries installed\n",
    "# It is defined by the kaggle/python docker image: https://github.com/kaggle/docker-python\n",
    "# For example, here's several helpful packages to load in \n",
    "\n",
    "import numpy as np # linear algebra\n",
    "import pandas as pd # data processing, CSV file I/O (e.g. pd.read_csv)\n",
    "\n",
    "# Input data files are available in the \"../input/\" directory.\n",
    "# For example, running this (by clicking run or pressing Shift+Enter) will list all files under the input directory\n",
    "\n",
    "import os\n",
    "for dirname, _, filenames in os.walk('/kaggle/input'):\n",
    "    for filename in filenames:\n",
    "        print(os.path.join(dirname, filename))\n",
    "    \n",
    "import pandas_profiling as pdp\n",
    "\n",
    "# Any results you write to the current directory are saved as output."
   ]
  },
  {
   "cell_type": "code",
   "execution_count": 2,
   "metadata": {},
   "outputs": [],
   "source": [
    "pd.set_option('display.max_columns', 100)"
   ]
  },
  {
   "cell_type": "code",
   "execution_count": 3,
   "metadata": {},
   "outputs": [],
   "source": [
    "train = pd.read_csv(\"train_data.csv\")\n",
    "test = pd.read_csv(\"test_data.csv\")"
   ]
  },
  {
   "cell_type": "code",
   "execution_count": 4,
   "metadata": {},
   "outputs": [],
   "source": [
    "train = train.drop(columns=[\"id\",\"period\",\"game-ver\",\"A1-rank\", \"A2-rank\", \"A3-rank\",\"A4-rank\",\"B1-rank\",\"B2-rank\",\"B3-rank\",\"B4-rank\"])\n",
    "test = test.drop(columns=[\"period\",\"game-ver\",\"A1-rank\", \"A2-rank\", \"A3-rank\",\"A4-rank\",\"B1-rank\",\"B2-rank\",\"B3-rank\",\"B4-rank\"])"
   ]
  },
  {
   "cell_type": "code",
   "execution_count": 5,
   "metadata": {},
   "outputs": [],
   "source": [
    "train_x = train.drop([\"y\"],axis=1)\n",
    "train_y = train[\"y\"]"
   ]
  },
  {
   "cell_type": "code",
   "execution_count": null,
   "metadata": {},
   "outputs": [],
   "source": []
  },
  {
   "cell_type": "markdown",
   "metadata": {},
   "source": [
    "武器"
   ]
  },
  {
   "cell_type": "code",
   "execution_count": 6,
   "metadata": {},
   "outputs": [
    {
     "name": "stderr",
     "output_type": "stream",
     "text": [
      "C:\\Users\\koshi\\Anaconda3\\lib\\site-packages\\ipykernel_launcher.py:1: FutureWarning: Sorting because non-concatenation axis is not aligned. A future version\n",
      "of pandas will change to not sort by default.\n",
      "\n",
      "To accept the future behavior, pass 'sort=False'.\n",
      "\n",
      "To retain the current behavior and silence the warning, pass 'sort=True'.\n",
      "\n",
      "  \"\"\"Entry point for launching an IPython kernel.\n"
     ]
    }
   ],
   "source": [
    "all_data = pd.concat([train_x, test],ignore_index = True)"
   ]
  },
  {
   "cell_type": "code",
   "execution_count": 7,
   "metadata": {},
   "outputs": [],
   "source": [
    "from sklearn.preprocessing import LabelEncoder\n",
    "le = LabelEncoder()\n",
    "for c in [\"A1-weapon\", \"A2-weapon\", \"A3-weapon\",\"A4-weapon\",\"B1-weapon\",\"B2-weapon\",\"B3-weapon\",\"B4-weapon\"]:\n",
    "    le.fit(all_data[c].fillna(\"NA\"))\n",
    "    all_data[c] = le.transform(all_data[c].fillna(\"NA\"))"
   ]
  },
  {
   "cell_type": "code",
   "execution_count": 8,
   "metadata": {},
   "outputs": [],
   "source": [
    "train_x = all_data.iloc[:train.shape[0],:]\n",
    "test = all_data.iloc[train.shape[0]:,:]"
   ]
  },
  {
   "cell_type": "code",
   "execution_count": null,
   "metadata": {},
   "outputs": [],
   "source": []
  },
  {
   "cell_type": "code",
   "execution_count": 9,
   "metadata": {
    "scrolled": true
   },
   "outputs": [
    {
     "data": {
      "text/plain": [
       "A1-level        int64\n",
       "A1-weapon       int32\n",
       "A2-level      float64\n",
       "A2-weapon       int32\n",
       "A3-level      float64\n",
       "A3-weapon       int32\n",
       "A4-level      float64\n",
       "A4-weapon       int32\n",
       "B1-level        int64\n",
       "B1-weapon       int32\n",
       "B2-level      float64\n",
       "B2-weapon       int32\n",
       "B3-level      float64\n",
       "B3-weapon       int32\n",
       "B4-level      float64\n",
       "B4-weapon       int32\n",
       "id            float64\n",
       "lobby          object\n",
       "lobby-mode     object\n",
       "mode           object\n",
       "stage          object\n",
       "dtype: object"
      ]
     },
     "execution_count": 9,
     "metadata": {},
     "output_type": "execute_result"
    }
   ],
   "source": [
    "all_data.dtypes"
   ]
  },
  {
   "cell_type": "code",
   "execution_count": 10,
   "metadata": {},
   "outputs": [
    {
     "data": {
      "text/plain": [
       "A1-level          0\n",
       "A1-weapon         0\n",
       "A2-level          0\n",
       "A2-weapon         0\n",
       "A3-level          0\n",
       "A3-weapon         0\n",
       "A4-level         66\n",
       "A4-weapon         0\n",
       "B1-level          0\n",
       "B1-weapon         0\n",
       "B2-level          0\n",
       "B2-weapon         0\n",
       "B3-level          2\n",
       "B3-weapon         0\n",
       "B4-level         97\n",
       "B4-weapon         0\n",
       "id            66125\n",
       "lobby             0\n",
       "lobby-mode        0\n",
       "mode              0\n",
       "stage             0\n",
       "dtype: int64"
      ]
     },
     "execution_count": 10,
     "metadata": {},
     "output_type": "execute_result"
    }
   ],
   "source": [
    "all_data.isnull().sum()"
   ]
  },
  {
   "cell_type": "code",
   "execution_count": null,
   "metadata": {},
   "outputs": [],
   "source": []
  },
  {
   "cell_type": "markdown",
   "metadata": {},
   "source": [
    "レベル合計"
   ]
  },
  {
   "cell_type": "code",
   "execution_count": 11,
   "metadata": {},
   "outputs": [],
   "source": [
    "all_data = pd.concat([train_x, test],ignore_index = True)"
   ]
  },
  {
   "cell_type": "code",
   "execution_count": 12,
   "metadata": {},
   "outputs": [],
   "source": [
    "all_data = all_data.fillna(0)"
   ]
  },
  {
   "cell_type": "code",
   "execution_count": 13,
   "metadata": {
    "scrolled": true
   },
   "outputs": [
    {
     "data": {
      "text/html": [
       "<div>\n",
       "<style scoped>\n",
       "    .dataframe tbody tr th:only-of-type {\n",
       "        vertical-align: middle;\n",
       "    }\n",
       "\n",
       "    .dataframe tbody tr th {\n",
       "        vertical-align: top;\n",
       "    }\n",
       "\n",
       "    .dataframe thead th {\n",
       "        text-align: right;\n",
       "    }\n",
       "</style>\n",
       "<table border=\"1\" class=\"dataframe\">\n",
       "  <thead>\n",
       "    <tr style=\"text-align: right;\">\n",
       "      <th></th>\n",
       "      <th>A1-level</th>\n",
       "      <th>A1-weapon</th>\n",
       "      <th>A2-level</th>\n",
       "      <th>A2-weapon</th>\n",
       "      <th>A3-level</th>\n",
       "      <th>A3-weapon</th>\n",
       "      <th>A4-level</th>\n",
       "      <th>A4-weapon</th>\n",
       "      <th>B1-level</th>\n",
       "      <th>B1-weapon</th>\n",
       "      <th>B2-level</th>\n",
       "      <th>B2-weapon</th>\n",
       "      <th>B3-level</th>\n",
       "      <th>B3-weapon</th>\n",
       "      <th>B4-level</th>\n",
       "      <th>B4-weapon</th>\n",
       "      <th>id</th>\n",
       "      <th>lobby</th>\n",
       "      <th>lobby-mode</th>\n",
       "      <th>mode</th>\n",
       "      <th>stage</th>\n",
       "    </tr>\n",
       "  </thead>\n",
       "  <tbody>\n",
       "    <tr>\n",
       "      <td>0</td>\n",
       "      <td>139</td>\n",
       "      <td>134</td>\n",
       "      <td>118.0</td>\n",
       "      <td>111</td>\n",
       "      <td>13.0</td>\n",
       "      <td>88</td>\n",
       "      <td>10.0</td>\n",
       "      <td>50</td>\n",
       "      <td>28</td>\n",
       "      <td>12</td>\n",
       "      <td>26.0</td>\n",
       "      <td>50</td>\n",
       "      <td>68.0</td>\n",
       "      <td>41</td>\n",
       "      <td>31.0</td>\n",
       "      <td>110</td>\n",
       "      <td>0.0</td>\n",
       "      <td>standard</td>\n",
       "      <td>regular</td>\n",
       "      <td>nawabari</td>\n",
       "      <td>sumeshi</td>\n",
       "    </tr>\n",
       "    <tr>\n",
       "      <td>1</td>\n",
       "      <td>198</td>\n",
       "      <td>91</td>\n",
       "      <td>77.0</td>\n",
       "      <td>56</td>\n",
       "      <td>198.0</td>\n",
       "      <td>20</td>\n",
       "      <td>123.0</td>\n",
       "      <td>84</td>\n",
       "      <td>83</td>\n",
       "      <td>76</td>\n",
       "      <td>118.0</td>\n",
       "      <td>131</td>\n",
       "      <td>168.0</td>\n",
       "      <td>20</td>\n",
       "      <td>151.0</td>\n",
       "      <td>126</td>\n",
       "      <td>0.0</td>\n",
       "      <td>standard</td>\n",
       "      <td>regular</td>\n",
       "      <td>nawabari</td>\n",
       "      <td>arowana</td>\n",
       "    </tr>\n",
       "    <tr>\n",
       "      <td>2</td>\n",
       "      <td>114</td>\n",
       "      <td>84</td>\n",
       "      <td>68.0</td>\n",
       "      <td>98</td>\n",
       "      <td>225.0</td>\n",
       "      <td>93</td>\n",
       "      <td>107.0</td>\n",
       "      <td>57</td>\n",
       "      <td>50</td>\n",
       "      <td>12</td>\n",
       "      <td>163.0</td>\n",
       "      <td>83</td>\n",
       "      <td>160.0</td>\n",
       "      <td>94</td>\n",
       "      <td>126.0</td>\n",
       "      <td>28</td>\n",
       "      <td>0.0</td>\n",
       "      <td>standard</td>\n",
       "      <td>gachi</td>\n",
       "      <td>hoko</td>\n",
       "      <td>ama</td>\n",
       "    </tr>\n",
       "    <tr>\n",
       "      <td>3</td>\n",
       "      <td>336</td>\n",
       "      <td>5</td>\n",
       "      <td>131.0</td>\n",
       "      <td>116</td>\n",
       "      <td>189.0</td>\n",
       "      <td>30</td>\n",
       "      <td>41.0</td>\n",
       "      <td>94</td>\n",
       "      <td>273</td>\n",
       "      <td>113</td>\n",
       "      <td>189.0</td>\n",
       "      <td>66</td>\n",
       "      <td>194.0</td>\n",
       "      <td>96</td>\n",
       "      <td>391.0</td>\n",
       "      <td>54</td>\n",
       "      <td>0.0</td>\n",
       "      <td>standard</td>\n",
       "      <td>regular</td>\n",
       "      <td>nawabari</td>\n",
       "      <td>engawa</td>\n",
       "    </tr>\n",
       "    <tr>\n",
       "      <td>4</td>\n",
       "      <td>299</td>\n",
       "      <td>12</td>\n",
       "      <td>97.0</td>\n",
       "      <td>48</td>\n",
       "      <td>96.0</td>\n",
       "      <td>37</td>\n",
       "      <td>136.0</td>\n",
       "      <td>116</td>\n",
       "      <td>101</td>\n",
       "      <td>33</td>\n",
       "      <td>45.0</td>\n",
       "      <td>126</td>\n",
       "      <td>246.0</td>\n",
       "      <td>19</td>\n",
       "      <td>160.0</td>\n",
       "      <td>139</td>\n",
       "      <td>0.0</td>\n",
       "      <td>standard</td>\n",
       "      <td>gachi</td>\n",
       "      <td>hoko</td>\n",
       "      <td>chozame</td>\n",
       "    </tr>\n",
       "  </tbody>\n",
       "</table>\n",
       "</div>"
      ],
      "text/plain": [
       "   A1-level  A1-weapon  A2-level  A2-weapon  A3-level  A3-weapon  A4-level  \\\n",
       "0       139        134     118.0        111      13.0         88      10.0   \n",
       "1       198         91      77.0         56     198.0         20     123.0   \n",
       "2       114         84      68.0         98     225.0         93     107.0   \n",
       "3       336          5     131.0        116     189.0         30      41.0   \n",
       "4       299         12      97.0         48      96.0         37     136.0   \n",
       "\n",
       "   A4-weapon  B1-level  B1-weapon  B2-level  B2-weapon  B3-level  B3-weapon  \\\n",
       "0         50        28         12      26.0         50      68.0         41   \n",
       "1         84        83         76     118.0        131     168.0         20   \n",
       "2         57        50         12     163.0         83     160.0         94   \n",
       "3         94       273        113     189.0         66     194.0         96   \n",
       "4        116       101         33      45.0        126     246.0         19   \n",
       "\n",
       "   B4-level  B4-weapon   id     lobby lobby-mode      mode    stage  \n",
       "0      31.0        110  0.0  standard    regular  nawabari  sumeshi  \n",
       "1     151.0        126  0.0  standard    regular  nawabari  arowana  \n",
       "2     126.0         28  0.0  standard      gachi      hoko      ama  \n",
       "3     391.0         54  0.0  standard    regular  nawabari   engawa  \n",
       "4     160.0        139  0.0  standard      gachi      hoko  chozame  "
      ]
     },
     "execution_count": 13,
     "metadata": {},
     "output_type": "execute_result"
    }
   ],
   "source": [
    "all_data.head()"
   ]
  },
  {
   "cell_type": "code",
   "execution_count": 14,
   "metadata": {
    "scrolled": true
   },
   "outputs": [
    {
     "data": {
      "text/plain": [
       "139"
      ]
     },
     "execution_count": 14,
     "metadata": {},
     "output_type": "execute_result"
    }
   ],
   "source": [
    "all_data[\"A1-level\"][0]"
   ]
  },
  {
   "cell_type": "code",
   "execution_count": 15,
   "metadata": {},
   "outputs": [],
   "source": [
    "all_data[\"a_sum_level\"] = 0\n",
    "all_data[\"b_sum_level\"] = 0"
   ]
  },
  {
   "cell_type": "code",
   "execution_count": 16,
   "metadata": {
    "scrolled": true
   },
   "outputs": [
    {
     "name": "stderr",
     "output_type": "stream",
     "text": [
      "C:\\Users\\koshi\\Anaconda3\\lib\\site-packages\\ipykernel_launcher.py:2: SettingWithCopyWarning: \n",
      "A value is trying to be set on a copy of a slice from a DataFrame\n",
      "\n",
      "See the caveats in the documentation: http://pandas.pydata.org/pandas-docs/stable/user_guide/indexing.html#returning-a-view-versus-a-copy\n",
      "  \n",
      "C:\\Users\\koshi\\Anaconda3\\lib\\site-packages\\ipykernel_launcher.py:3: SettingWithCopyWarning: \n",
      "A value is trying to be set on a copy of a slice from a DataFrame\n",
      "\n",
      "See the caveats in the documentation: http://pandas.pydata.org/pandas-docs/stable/user_guide/indexing.html#returning-a-view-versus-a-copy\n",
      "  This is separate from the ipykernel package so we can avoid doing imports until\n"
     ]
    }
   ],
   "source": [
    "for i in range(len(all_data)):\n",
    "    all_data[\"a_sum_level\"][i] =  all_data[\"A1-level\"][i] + all_data[\"A2-level\"][i] + all_data[\"A3-level\"][i] + all_data[\"A4-level\"][i]\n",
    "    all_data[\"b_sum_level\"][i] =  all_data[\"B1-level\"][i] + all_data[\"B2-level\"][i] + all_data[\"B3-level\"][i] + all_data[\"B4-level\"][i]"
   ]
  },
  {
   "cell_type": "code",
   "execution_count": 17,
   "metadata": {},
   "outputs": [],
   "source": [
    "all_data = all_data.drop(columns=[\"A1-level\",\"A2-level\",\"A3-level\",\"A4-level\",\"B1-level\",\"B2-level\",\"B3-level\",\"B4-level\"])"
   ]
  },
  {
   "cell_type": "code",
   "execution_count": 18,
   "metadata": {
    "scrolled": true
   },
   "outputs": [
    {
     "data": {
      "text/html": [
       "<div>\n",
       "<style scoped>\n",
       "    .dataframe tbody tr th:only-of-type {\n",
       "        vertical-align: middle;\n",
       "    }\n",
       "\n",
       "    .dataframe tbody tr th {\n",
       "        vertical-align: top;\n",
       "    }\n",
       "\n",
       "    .dataframe thead th {\n",
       "        text-align: right;\n",
       "    }\n",
       "</style>\n",
       "<table border=\"1\" class=\"dataframe\">\n",
       "  <thead>\n",
       "    <tr style=\"text-align: right;\">\n",
       "      <th></th>\n",
       "      <th>A1-weapon</th>\n",
       "      <th>A2-weapon</th>\n",
       "      <th>A3-weapon</th>\n",
       "      <th>A4-weapon</th>\n",
       "      <th>B1-weapon</th>\n",
       "      <th>B2-weapon</th>\n",
       "      <th>B3-weapon</th>\n",
       "      <th>B4-weapon</th>\n",
       "      <th>id</th>\n",
       "      <th>lobby</th>\n",
       "      <th>lobby-mode</th>\n",
       "      <th>mode</th>\n",
       "      <th>stage</th>\n",
       "      <th>a_sum_level</th>\n",
       "      <th>b_sum_level</th>\n",
       "    </tr>\n",
       "  </thead>\n",
       "  <tbody>\n",
       "    <tr>\n",
       "      <td>0</td>\n",
       "      <td>134</td>\n",
       "      <td>111</td>\n",
       "      <td>88</td>\n",
       "      <td>50</td>\n",
       "      <td>12</td>\n",
       "      <td>50</td>\n",
       "      <td>41</td>\n",
       "      <td>110</td>\n",
       "      <td>0.0</td>\n",
       "      <td>standard</td>\n",
       "      <td>regular</td>\n",
       "      <td>nawabari</td>\n",
       "      <td>sumeshi</td>\n",
       "      <td>280</td>\n",
       "      <td>153</td>\n",
       "    </tr>\n",
       "    <tr>\n",
       "      <td>1</td>\n",
       "      <td>91</td>\n",
       "      <td>56</td>\n",
       "      <td>20</td>\n",
       "      <td>84</td>\n",
       "      <td>76</td>\n",
       "      <td>131</td>\n",
       "      <td>20</td>\n",
       "      <td>126</td>\n",
       "      <td>0.0</td>\n",
       "      <td>standard</td>\n",
       "      <td>regular</td>\n",
       "      <td>nawabari</td>\n",
       "      <td>arowana</td>\n",
       "      <td>596</td>\n",
       "      <td>520</td>\n",
       "    </tr>\n",
       "    <tr>\n",
       "      <td>2</td>\n",
       "      <td>84</td>\n",
       "      <td>98</td>\n",
       "      <td>93</td>\n",
       "      <td>57</td>\n",
       "      <td>12</td>\n",
       "      <td>83</td>\n",
       "      <td>94</td>\n",
       "      <td>28</td>\n",
       "      <td>0.0</td>\n",
       "      <td>standard</td>\n",
       "      <td>gachi</td>\n",
       "      <td>hoko</td>\n",
       "      <td>ama</td>\n",
       "      <td>514</td>\n",
       "      <td>499</td>\n",
       "    </tr>\n",
       "    <tr>\n",
       "      <td>3</td>\n",
       "      <td>5</td>\n",
       "      <td>116</td>\n",
       "      <td>30</td>\n",
       "      <td>94</td>\n",
       "      <td>113</td>\n",
       "      <td>66</td>\n",
       "      <td>96</td>\n",
       "      <td>54</td>\n",
       "      <td>0.0</td>\n",
       "      <td>standard</td>\n",
       "      <td>regular</td>\n",
       "      <td>nawabari</td>\n",
       "      <td>engawa</td>\n",
       "      <td>697</td>\n",
       "      <td>1047</td>\n",
       "    </tr>\n",
       "    <tr>\n",
       "      <td>4</td>\n",
       "      <td>12</td>\n",
       "      <td>48</td>\n",
       "      <td>37</td>\n",
       "      <td>116</td>\n",
       "      <td>33</td>\n",
       "      <td>126</td>\n",
       "      <td>19</td>\n",
       "      <td>139</td>\n",
       "      <td>0.0</td>\n",
       "      <td>standard</td>\n",
       "      <td>gachi</td>\n",
       "      <td>hoko</td>\n",
       "      <td>chozame</td>\n",
       "      <td>628</td>\n",
       "      <td>552</td>\n",
       "    </tr>\n",
       "  </tbody>\n",
       "</table>\n",
       "</div>"
      ],
      "text/plain": [
       "   A1-weapon  A2-weapon  A3-weapon  A4-weapon  B1-weapon  B2-weapon  \\\n",
       "0        134        111         88         50         12         50   \n",
       "1         91         56         20         84         76        131   \n",
       "2         84         98         93         57         12         83   \n",
       "3          5        116         30         94        113         66   \n",
       "4         12         48         37        116         33        126   \n",
       "\n",
       "   B3-weapon  B4-weapon   id     lobby lobby-mode      mode    stage  \\\n",
       "0         41        110  0.0  standard    regular  nawabari  sumeshi   \n",
       "1         20        126  0.0  standard    regular  nawabari  arowana   \n",
       "2         94         28  0.0  standard      gachi      hoko      ama   \n",
       "3         96         54  0.0  standard    regular  nawabari   engawa   \n",
       "4         19        139  0.0  standard      gachi      hoko  chozame   \n",
       "\n",
       "   a_sum_level  b_sum_level  \n",
       "0          280          153  \n",
       "1          596          520  \n",
       "2          514          499  \n",
       "3          697         1047  \n",
       "4          628          552  "
      ]
     },
     "execution_count": 18,
     "metadata": {},
     "output_type": "execute_result"
    }
   ],
   "source": [
    "all_data.head()"
   ]
  },
  {
   "cell_type": "code",
   "execution_count": null,
   "metadata": {},
   "outputs": [],
   "source": []
  },
  {
   "cell_type": "markdown",
   "metadata": {},
   "source": [
    "stage,lobby-mode,lobby,mode"
   ]
  },
  {
   "cell_type": "code",
   "execution_count": 19,
   "metadata": {},
   "outputs": [],
   "source": [
    "from sklearn.preprocessing import LabelEncoder\n",
    "le = LabelEncoder()\n",
    "for c in [\"stage\"]:\n",
    "    le.fit(all_data[c].fillna(\"NA\"))\n",
    "    all_data[c] = le.transform(all_data[c].fillna(\"NA\"))"
   ]
  },
  {
   "cell_type": "code",
   "execution_count": 20,
   "metadata": {},
   "outputs": [],
   "source": [
    "from sklearn.preprocessing import LabelEncoder\n",
    "le = LabelEncoder()\n",
    "for c in [\"lobby-mode\"]:\n",
    "    le.fit(all_data[c].fillna(\"NA\"))\n",
    "    all_data[c] = le.transform(all_data[c].fillna(\"NA\"))"
   ]
  },
  {
   "cell_type": "code",
   "execution_count": 21,
   "metadata": {},
   "outputs": [],
   "source": [
    "from sklearn.preprocessing import LabelEncoder\n",
    "le = LabelEncoder()\n",
    "for c in [\"lobby\"]:\n",
    "    le.fit(all_data[c].fillna(\"NA\"))\n",
    "    all_data[c] = le.transform(all_data[c].fillna(\"NA\"))"
   ]
  },
  {
   "cell_type": "code",
   "execution_count": 22,
   "metadata": {},
   "outputs": [],
   "source": [
    "from sklearn.preprocessing import LabelEncoder\n",
    "le = LabelEncoder()\n",
    "for c in [\"mode\"]:\n",
    "    le.fit(all_data[c].fillna(\"NA\"))\n",
    "    all_data[c] = le.transform(all_data[c].fillna(\"NA\"))"
   ]
  },
  {
   "cell_type": "code",
   "execution_count": 23,
   "metadata": {},
   "outputs": [],
   "source": [
    "train_x = all_data.iloc[:train.shape[0],:]\n",
    "test = all_data.iloc[train.shape[0]:,:]"
   ]
  },
  {
   "cell_type": "code",
   "execution_count": null,
   "metadata": {},
   "outputs": [],
   "source": []
  },
  {
   "cell_type": "code",
   "execution_count": 25,
   "metadata": {},
   "outputs": [],
   "source": [
    "test_x = test.copy()"
   ]
  },
  {
   "cell_type": "code",
   "execution_count": 36,
   "metadata": {
    "scrolled": true
   },
   "outputs": [
    {
     "name": "stdout",
     "output_type": "stream",
     "text": [
      "[16:36:19] WARNING: C:\\Users\\Administrator\\workspace\\xgboost-win64_release_1.2.0\\src\\learner.cc:516: \n",
      "Parameters: { random_stat } might not be used.\n",
      "\n",
      "  This may not be accurate due to some parameters are only used in language bindings but\n",
      "  passed down to XGBoost core.  Or some parameters are not used but slip through this\n",
      "  verification. Please open an issue if you find above cases.\n",
      "\n",
      "\n",
      "[16:36:20] WARNING: C:\\Users\\Administrator\\workspace\\xgboost-win64_release_1.2.0\\src\\learner.cc:516: \n",
      "Parameters: { random_stat } might not be used.\n",
      "\n",
      "  This may not be accurate due to some parameters are only used in language bindings but\n",
      "  passed down to XGBoost core.  Or some parameters are not used but slip through this\n",
      "  verification. Please open an issue if you find above cases.\n",
      "\n",
      "\n",
      "[16:36:20] WARNING: C:\\Users\\Administrator\\workspace\\xgboost-win64_release_1.2.0\\src\\learner.cc:516: \n",
      "Parameters: { random_stat } might not be used.\n",
      "\n",
      "  This may not be accurate due to some parameters are only used in language bindings but\n",
      "  passed down to XGBoost core.  Or some parameters are not used but slip through this\n",
      "  verification. Please open an issue if you find above cases.\n",
      "\n",
      "\n",
      "[16:36:20] WARNING: C:\\Users\\Administrator\\workspace\\xgboost-win64_release_1.2.0\\src\\learner.cc:516: \n",
      "Parameters: { random_stat } might not be used.\n",
      "\n",
      "  This may not be accurate due to some parameters are only used in language bindings but\n",
      "  passed down to XGBoost core.  Or some parameters are not used but slip through this\n",
      "  verification. Please open an issue if you find above cases.\n",
      "\n",
      "\n",
      "logloss:0.6912,accuracy:0.528923\n"
     ]
    }
   ],
   "source": [
    "from sklearn.metrics import log_loss, accuracy_score\n",
    "from sklearn.model_selection import KFold\n",
    "\n",
    "scores_accuracy = []\n",
    "scores_logloss = []\n",
    "\n",
    "kf = KFold(n_splits = 4, shuffle=True, random_state = 71)\n",
    "for tr_idx, va_idx in kf.split(train_x):\n",
    "    tr_x,va_x = train_x.iloc[tr_idx], train_x.iloc[va_idx]\n",
    "    tr_y,va_y = train_y.iloc[tr_idx], train_y.iloc[va_idx]\n",
    "\n",
    "    model = XGBClassifier(n_estimators=20, random_stat=71)\n",
    "    model.fit(tr_x,tr_y)\n",
    "    \n",
    "    va_pred = model.predict_proba(va_x)[:,1]\n",
    "    \n",
    "    logloss = log_loss(va_y, va_pred)\n",
    "    accuracy = accuracy_score(va_y, va_pred>0.5)\n",
    "    \n",
    "    scores_logloss.append(logloss)\n",
    "    scores_accuracy.append(accuracy)\n",
    "\n",
    "logloss = np.mean(scores_logloss)\n",
    "accuracy = np.mean(scores_accuracy)\n",
    "print(f'logloss:{logloss:.4f},accuracy:{accuracy:4f}')"
   ]
  },
  {
   "cell_type": "code",
   "execution_count": 37,
   "metadata": {},
   "outputs": [
    {
     "name": "stdout",
     "output_type": "stream",
     "text": [
      "[16:52:10] WARNING: C:\\Users\\Administrator\\workspace\\xgboost-win64_release_1.2.0\\src\\learner.cc:516: \n",
      "Parameters: { random_stat } might not be used.\n",
      "\n",
      "  This may not be accurate due to some parameters are only used in language bindings but\n",
      "  passed down to XGBoost core.  Or some parameters are not used but slip through this\n",
      "  verification. Please open an issue if you find above cases.\n",
      "\n",
      "\n",
      "[16:52:10] WARNING: C:\\Users\\Administrator\\workspace\\xgboost-win64_release_1.2.0\\src\\learner.cc:516: \n",
      "Parameters: { random_stat } might not be used.\n",
      "\n",
      "  This may not be accurate due to some parameters are only used in language bindings but\n",
      "  passed down to XGBoost core.  Or some parameters are not used but slip through this\n",
      "  verification. Please open an issue if you find above cases.\n",
      "\n",
      "\n",
      "[16:52:11] WARNING: C:\\Users\\Administrator\\workspace\\xgboost-win64_release_1.2.0\\src\\learner.cc:516: \n",
      "Parameters: { random_stat } might not be used.\n",
      "\n",
      "  This may not be accurate due to some parameters are only used in language bindings but\n",
      "  passed down to XGBoost core.  Or some parameters are not used but slip through this\n",
      "  verification. Please open an issue if you find above cases.\n",
      "\n",
      "\n",
      "[16:52:12] WARNING: C:\\Users\\Administrator\\workspace\\xgboost-win64_release_1.2.0\\src\\learner.cc:516: \n",
      "Parameters: { random_stat } might not be used.\n",
      "\n",
      "  This may not be accurate due to some parameters are only used in language bindings but\n",
      "  passed down to XGBoost core.  Or some parameters are not used but slip through this\n",
      "  verification. Please open an issue if you find above cases.\n",
      "\n",
      "\n",
      "logloss:0.7199,accuracy:0.517611\n"
     ]
    }
   ],
   "source": [
    "scores_accuracy = []\n",
    "scores_logloss = []\n",
    "\n",
    "kf = KFold(n_splits = 4, shuffle=True, random_state = 71)\n",
    "for tr_idx, va_idx in kf.split(train_x):\n",
    "    tr_x,va_x = train_x.iloc[tr_idx], train_x.iloc[va_idx]\n",
    "    tr_y,va_y = train_y.iloc[tr_idx], train_y.iloc[va_idx]\n",
    "\n",
    "    model = XGBClassifier(n_estimators=20, random_stat=71, max_depth=11,min_child_weight=0)\n",
    "    model.fit(tr_x,tr_y)\n",
    "    \n",
    "    va_pred = model.predict_proba(va_x)[:,1]\n",
    "    \n",
    "    logloss = log_loss(va_y, va_pred)\n",
    "    accuracy = accuracy_score(va_y, va_pred>0.5)\n",
    "    \n",
    "    scores_logloss.append(logloss)\n",
    "    scores_accuracy.append(accuracy)\n",
    "\n",
    "logloss = np.mean(scores_logloss)\n",
    "accuracy = np.mean(scores_accuracy)\n",
    "print(f'logloss:{logloss:.4f},accuracy:{accuracy:4f}')"
   ]
  },
  {
   "cell_type": "code",
   "execution_count": 33,
   "metadata": {},
   "outputs": [
    {
     "name": "stdout",
     "output_type": "stream",
     "text": [
      "max_depth:100, min_child_weight:0\n"
     ]
    }
   ],
   "source": [
    "import itertools\n",
    "\n",
    "param_space = {\n",
    "    \"max_depth\":[5,9,11],\n",
    "    \"min_child_weight\":[0,1.0]\n",
    "}\n",
    "\n",
    "param_combinations = itertools.product(param_space[\"max_depth\"],param_space[\"min_child_weight\"])\n",
    "\n",
    "params =[]\n",
    "scores = []\n",
    "\n",
    "for max_depth, min_child_weight in param_combinations:\n",
    "    score_folds = []\n",
    "    kf = KFold(n_splits=4, shuffle=True,random_state=123456)\n",
    "    for tr_idx, va_idx in kf.split(train_x):\n",
    "        tr_x,tr_x = train_x.iloc[tr_idx], train_x.iloc[va_idx]\n",
    "        tr_y,tr_y = train_y.iloc[tr_idx], train_y.iloc[va_idx]\n",
    "\n",
    "        model = XGBClassifier(eta=0.1, num_round=10000, n_estimators=20, random_state=71, max_depth=max_depth, min_child_weight=min_child_weight)\n",
    "        model.fit(tr_x,tr_y)\n",
    "\n",
    "        va_pred = model.predict_proba(va_x)[:,1]\n",
    "        logloss = log_loss(va_y,va_pred)\n",
    "        score_folds.append(logloss)\n",
    "\n",
    "    score_mean = np.mean(score_folds)\n",
    "\n",
    "    params.append((max_depth, min_child_weight))\n",
    "    scores.append(score_mean)\n",
    "\n",
    "best_idx = np.argsort(scores)[0]\n",
    "best_param = params[best_idx]\n",
    "print(f'max_depth:{best_param[0]}, min_child_weight:{best_param[1]}')"
   ]
  },
  {
   "cell_type": "code",
   "execution_count": 30,
   "metadata": {},
   "outputs": [],
   "source": [
    "from sklearn.linear_model import LogisticRegression\n",
    "\n",
    "model_xgb = XGBClassifier(n_estimators=20,random_state=71)\n",
    "model_xgb.fit(train_x,train_y)\n",
    "pred_xgb = model_xgb.predict_proba(test_x)[:,1]\n",
    "\n",
    "model_lr = LogisticRegression(solver=\"lbfgs\", max_iter=300)\n",
    "model_lr.fit(train_x, train_y)\n",
    "pred_lr = model_lr.predict_proba(test_x)[:,1]\n",
    "\n",
    "pred = pred_xgb*0.8 + pred_lr*0.2\n",
    "pred_label = np.where(pred>0.5,1,0)\n",
    "\n",
    "submission = pd.DataFrame({\"id\":test[\"id\"].astype('int64'),\"y\":pred_label})\n",
    "submission.to_csv(\"submission1.csv\", index=False)"
   ]
  }
 ],
 "metadata": {
  "kernelspec": {
   "display_name": "Python 3",
   "language": "python",
   "name": "python3"
  },
  "language_info": {
   "codemirror_mode": {
    "name": "ipython",
    "version": 3
   },
   "file_extension": ".py",
   "mimetype": "text/x-python",
   "name": "python",
   "nbconvert_exporter": "python",
   "pygments_lexer": "ipython3",
   "version": "3.7.4"
  }
 },
 "nbformat": 4,
 "nbformat_minor": 2
}
